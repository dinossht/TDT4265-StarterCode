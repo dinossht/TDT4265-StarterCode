{
 "cells": [
  {
   "cell_type": "markdown",
   "metadata": {},
   "source": [
    "# <center> TDT4195 - Assignment 1 by Dinosshan Thiagarajah <center>\n"
   ]
  },
  {
   "cell_type": "markdown",
   "metadata": {},
   "source": [
    "## Task 1 a)\n",
    "$$\n",
    "\\begin{split}\n",
    "C^n(w) = -y^nln(\\hat{y}^n)+(1-y^n)ln(1-\\hat{y}^n) \\\\ \n",
    "\\frac{\\partial C^n(w)}{\\partial w_j} = -\\frac{\\partial }{\\partial w_j}(y^nln(\\hat{y})+(1-y^n)ln(1-\\hat{y}^n)) \\\\ \n",
    "\\hat{y}^n = f_w(x^n) \\\\ \n",
    "= -\\frac{\\partial }{\\partial w_j}(y^nln(f_w(x^n))+(1-f_w(x^n))ln(1-f_w(x^n))) \\\\ \n",
    "\\textbf{using hint} \\\\\n",
    "= -(y^n\\frac{x_j^nf_w(x^n)}{f_w(x^n)}(1-f_w(x^n))+\\frac{(1-y^n)(-x_j^nf_w(x^n)(1-f_w(x^n))}{(1-f_w(x^n))}) \\\\ \n",
    "=-(y^nx_j^n(1-f_w(x^n))+(1-y^n)(-x_j^nf_w(x^n))) \\\\ \n",
    "= -(y^n-\\hat{y}^n)x_j^n\n",
    "\\end{split}"
   ]
  },
  {
   "cell_type": "markdown",
   "metadata": {},
   "source": [
    "## Task 1 b)\n",
    "$$\n",
    "\\begin{split}\n",
    "C^n(w) = -\\frac{1}{K}\\sum_{k=1}^{K}y_k^n ln(\\hat{y}_k^n)  \\\\ \n",
    "\n",
    "\\frac{\\partial C^n(w)}{\\partial w_{kj}} =  -\\frac{\\partial}{\\partial w_{kj}}\\frac{1}{K}\\sum_{k=1}^{K}(y_k^n(ln(e^{w_k^Tx^n})-ln(\\sum_{k'}^{K}e^{w_{k'}^Tx^n}))) \\\\\n",
    "\n",
    "=-\\frac{\\partial}{\\partial w_{kj}}\\frac{1}{K}\\sum_{k=1}^{K}(y_k^n({w_k^Tx^n})+\\frac{\\partial}{\\partial w_{kj}}\\frac{1}{K}\\sum_{k=1}^{K}y_k^nln(\\sum_{k'}^{K}e^{w_{k'}^Tx^n}))) \\\\\n",
    "\n",
    "\\textbf{when k=j, using chain rule and} \\sum_{k=1}^{K}y^n_k=1\\\\\n",
    "= -\\frac{1}{K}y_k^nx_j^n+\\frac{1}{K}y_k^n\\frac{1}{\\sum_{k'}^{K}e^{w_{k'}^Tx^n}}e^{w_{k'}^Tx^n}x_j^n \\\\\n",
    "= -\\frac{1}{K}x_j^n(y_k^n-\\hat{y}_k^n)\n",
    " \n",
    "\\end{split}"
   ]
  },
  {
   "cell_type": "markdown",
   "execution_count": null,
   "metadata": {},
   "outputs": [],
   "source": [
    "## Task 2 d)\n",
    "Implement early stopping!"
   ]
  },
  {
   "cell_type": "code",
   "execution_count": null,
   "metadata": {},
   "outputs": [],
   "source": []
  }
 ],
 "metadata": {
  "file_extension": ".py",
  "kernelspec": {
   "display_name": "Python 3",
   "language": "python",
   "name": "python3"
  },
  "language_info": {
   "codemirror_mode": {
    "name": "ipython",
    "version": 3
   },
   "file_extension": ".py",
   "mimetype": "text/x-python",
   "name": "python",
   "nbconvert_exporter": "python",
   "pygments_lexer": "ipython3",
   "version": "3.6.7"
  },
  "mimetype": "text/x-python",
  "name": "python",
  "npconvert_exporter": "python",
  "pygments_lexer": "ipython3",
  "version": 3
 },
 "nbformat": 4,
 "nbformat_minor": 2
}